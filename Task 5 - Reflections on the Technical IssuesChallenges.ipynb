{
 "cells": [
  {
   "cell_type": "markdown",
   "metadata": {},
   "source": [
    "# Task 5: Reflections on the Technical Issues/Challenges\n"
   ]
  },
  {
   "cell_type": "markdown",
   "metadata": {},
   "source": [
    "Over the last two semesters, I’ve learned a lot from working on different projects. I’ve used tools like Visual Studio Code, GitHub, and Jupyter Notebook. Some things were easy to pick up, but others were definitely a challenge.\n",
    "\n",
    "Jupyter Notebook was one of the easier tools to use. It helped me test and write code quickly, especially for the maths and data tasks. But I really struggled with GitHub at first. I didn’t understand how to commit or push my code properly, and linking my project to a GitHub repository was confusing. I often got errors when trying to push, and I didn’t know why. Watching YouTube tutorials and asking friends helped me figure it out slowly.\n",
    "\n",
    "Another problem I faced was installing and importing libraries. Sometimes I installed a package, but it still wouldn’t work in my code. I later found out that it was because I was installing it in the wrong environment. That was frustrating because the error messages didn’t always make sense.\n",
    "\n",
    "One example was when I was working on the Treasure Hunt game. I had issues with the BFS search algorithm—it wasn’t giving the shortest path like it should. After some testing and checking online, I found out I wasn’t tracking the visited nodes properly. Fixing that made it work as expected.\n",
    "\n",
    "Most of the time, I used YouTube, class notes, or asked other students for help when I got stuck.\n",
    "\n",
    "One skill I really want to improve is debugging. Right now, I mostly use print statements to check what’s going wrong, but I want to learn how to use proper tools like breakpoints.\n",
    "\n",
    "Going forward, I also want to get better at using GitHub—especially working with branches and handling merge conflicts. These skills will definitely help me with future group projects and more advanced coding work."
   ]
  }
 ],
 "metadata": {
  "language_info": {
   "name": "python"
  }
 },
 "nbformat": 4,
 "nbformat_minor": 2
}
